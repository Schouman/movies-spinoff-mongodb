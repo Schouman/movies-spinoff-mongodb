{
 "cells": [
  {
   "cell_type": "code",
   "execution_count": 1,
   "metadata": {},
   "outputs": [],
   "source": [
    "import pymongo"
   ]
  },
  {
   "cell_type": "code",
   "execution_count": 2,
   "metadata": {},
   "outputs": [],
   "source": [
    "from pymongo import MongoClient"
   ]
  },
  {
   "cell_type": "markdown",
   "metadata": {},
   "source": [
    "## Conversion de la table movies.csv en fichier JSON"
   ]
  },
  {
   "cell_type": "code",
   "execution_count": 3,
   "metadata": {},
   "outputs": [
    {
     "data": {
      "text/plain": [
       "881649"
      ]
     },
     "execution_count": 3,
     "metadata": {},
     "output_type": "execute_result"
    }
   ],
   "source": [
    "import csv\n",
    "import json\n",
    "\n",
    "csvfile = open('movies csv/movies.csv', 'r', encoding='utf8')\n",
    "jsonfile = open('movie_json/movies.json', 'w')\n",
    "\n",
    "fieldnames = (\"movieId\",\"title\",\"genres\")\n",
    "reader = csv.DictReader( csvfile, fieldnames)\n",
    "out = json.dumps( [ row for row in reader ] )\n",
    "jsonfile.write(out)"
   ]
  },
  {
   "cell_type": "markdown",
   "metadata": {},
   "source": [
    "La table en format csv movies est converties en format json. On aurait pu aussi insérer directement notre table csv sur mongoDB, \n",
    "c'est aussi une possibilité. "
   ]
  },
  {
   "cell_type": "markdown",
   "metadata": {},
   "source": [
    "### Importer le fichier JSON sur MongoDB"
   ]
  },
  {
   "cell_type": "code",
   "execution_count": 4,
   "metadata": {},
   "outputs": [
    {
     "data": {
      "text/plain": [
       "<pymongo.results.InsertManyResult at 0x27ed4f2f5c0>"
      ]
     },
     "execution_count": 4,
     "metadata": {},
     "output_type": "execute_result"
    }
   ],
   "source": [
    "fjson='movie_json/movies.json'\n",
    "\n",
    "\n",
    "\n",
    "#On établit la connexion avec MongoClient\n",
    "client = MongoClient('localhost', 27017) \n",
    "\n",
    "#On crée notre base de donnée 'SpinOff3'\n",
    "db = client['SpinOff3'] \n",
    "\n",
    "#On crée notre collection 'movies'\n",
    "collection = db['movies']\n",
    "\n",
    "#On insère nos documents (insert_many()) en format Json\n",
    "with open (fjson) as f:\n",
    "    file_data = json.load(f)\n",
    "    \n",
    "db.co.insert_many(file_data)\n"
   ]
  },
  {
   "cell_type": "markdown",
   "metadata": {},
   "source": [
    "### Résultat sur MongoDB"
   ]
  },
  {
   "cell_type": "markdown",
   "metadata": {},
   "source": [
    "![Img1](Image/Img1.png)"
   ]
  },
  {
   "cell_type": "markdown",
   "metadata": {},
   "source": [
    "Nous retrouvons bien notre base de donnée 'SpinOff3', notre collection 'movies' et nos 'documents'.\n",
    "En haut à droite nous vérifions bien 9743 documents. "
   ]
  },
  {
   "cell_type": "markdown",
   "metadata": {},
   "source": [
    "### Afficher les informations sur le premier film avec \".find()\""
   ]
  },
  {
   "cell_type": "code",
   "execution_count": 5,
   "metadata": {},
   "outputs": [
    {
     "name": "stdout",
     "output_type": "stream",
     "text": [
      "{'_id': ObjectId('5fdb6a129619c7553d02b321'), 'movieId': '1', 'title': 'Toy Story (1995)', 'genres': 'Adventure|Animation|Children|Comedy|Fantasy'}\n"
     ]
    }
   ],
   "source": [
    "#fivestar =\n",
    "for x in db.movies.find({\"movieId\":\"1\" }):\n",
    "    print(x)"
   ]
  },
  {
   "cell_type": "markdown",
   "metadata": {},
   "source": [
    "Nous pouvons aussi interroger notre collection, est retrouver les informations. "
   ]
  },
  {
   "cell_type": "code",
   "execution_count": null,
   "metadata": {},
   "outputs": [],
   "source": []
  }
 ],
 "metadata": {
  "kernelspec": {
   "display_name": "Python 3",
   "language": "python",
   "name": "python3"
  },
  "language_info": {
   "codemirror_mode": {
    "name": "ipython",
    "version": 3
   },
   "file_extension": ".py",
   "mimetype": "text/x-python",
   "name": "python",
   "nbconvert_exporter": "python",
   "pygments_lexer": "ipython3",
   "version": "3.8.6"
  }
 },
 "nbformat": 4,
 "nbformat_minor": 4
}
